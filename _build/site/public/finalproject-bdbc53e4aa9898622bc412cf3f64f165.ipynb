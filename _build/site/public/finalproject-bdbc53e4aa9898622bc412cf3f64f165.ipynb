{
 "cells": [
  {
   "cell_type": "code",
   "execution_count": 1,
   "id": "3d8c1be8-182c-48ea-924c-18e1f83d5de8",
   "metadata": {},
   "outputs": [],
   "source": [
    "#Analyzing the Incidence of Lung Cancer in the US Over Time"
   ]
  },
  {
   "cell_type": "code",
   "execution_count": 3,
   "id": "b320e9e0-3514-4ff1-9b20-273374510418",
   "metadata": {},
   "outputs": [],
   "source": [
    "import pandas as pd\n",
    "import matplotlib.pyplot as plt\n",
    "import numpy as np"
   ]
  },
  {
   "cell_type": "code",
   "execution_count": 2,
   "id": "b726b57d-c7b0-40ea-8d7e-3100d66e3c6d",
   "metadata": {},
   "outputs": [
    {
     "ename": "NameError",
     "evalue": "name 'pd' is not defined",
     "output_type": "error",
     "traceback": [
      "\u001b[0;31m---------------------------------------------------------------------------\u001b[0m",
      "\u001b[0;31mNameError\u001b[0m                                 Traceback (most recent call last)",
      "Cell \u001b[0;32mIn[2], line 1\u001b[0m\n\u001b[0;32m----> 1\u001b[0m lung \u001b[38;5;241m=\u001b[39m \u001b[43mpd\u001b[49m\u001b[38;5;241m.\u001b[39mread_csv(\u001b[38;5;124m'\u001b[39m\u001b[38;5;124mlungcancer.csv\u001b[39m\u001b[38;5;124m'\u001b[39m)\n",
      "\u001b[0;31mNameError\u001b[0m: name 'pd' is not defined"
     ]
    }
   ],
   "source": [
    "lung = pd.read_csv('lungcancer.csv')"
   ]
  },
  {
   "cell_type": "code",
   "execution_count": null,
   "id": "5a1d1189-bfb9-4d4f-86d7-6001f89c6e9e",
   "metadata": {},
   "outputs": [],
   "source": [
    "lung = pd.read_csv(\"lungcancer.csv\", index_col=6)"
   ]
  },
  {
   "cell_type": "code",
   "execution_count": null,
   "id": "c7d82789-2fc8-4e83-903d-11420cbdd129",
   "metadata": {},
   "outputs": [],
   "source": [
    "#Crude Rate Comparison"
   ]
  },
  {
   "cell_type": "code",
   "execution_count": null,
   "id": "fa924ad5-7cdd-4935-a400-b8c461906d10",
   "metadata": {},
   "outputs": [],
   "source": [
    "#The crude rate is the ratio of the number of new cases in a specified population and time period to the size of the population at risk during the same time period. Incidence rate is usually presented as an annual rate per 100,000 persons at risk."
   ]
  },
  {
   "cell_type": "code",
   "execution_count": null,
   "id": "a3b4d763-0fa1-410a-8551-b6a4b01ee515",
   "metadata": {},
   "outputs": [],
   "source": [
    "#https://ecis.jrc.ec.europa.eu/info/glossary.html"
   ]
  },
  {
   "cell_type": "code",
   "execution_count": null,
   "id": "c05f2c1c-aebf-4384-917d-8736ac4eaadb",
   "metadata": {},
   "outputs": [],
   "source": []
  },
  {
   "cell_type": "code",
   "execution_count": null,
   "id": "2d2693f8-1057-4c70-8235-c775cd7bb4ad",
   "metadata": {},
   "outputs": [],
   "source": [
    "femalescruderate = lung[lung[\"Sex\"] ==2]\n",
    "femalescruderate['Crude rate'].plot()"
   ]
  },
  {
   "cell_type": "code",
   "execution_count": null,
   "id": "16c66904-d443-4e44-8737-c6fb9732c9d0",
   "metadata": {},
   "outputs": [],
   "source": [
    "malescruderate = lung.loc[lung[\"Sex\"] ==1, \"Crude rate\"]"
   ]
  },
  {
   "cell_type": "code",
   "execution_count": null,
   "id": "7917b95c-2f94-4dc2-bbff-263e14f7592a",
   "metadata": {},
   "outputs": [],
   "source": [
    "male_data = lung[lung['Sex'] == 1]\n",
    "female_data = lung[lung['Sex'] == 2]"
   ]
  },
  {
   "cell_type": "code",
   "execution_count": null,
   "id": "c42a6f13-c62d-4412-9a10-47f4515fad8c",
   "metadata": {},
   "outputs": [],
   "source": [
    "plt.figure(figsize=(12, 6))\n",
    "plt.plot(male_data.index, male_data['Crude rate'], label='Male')\n",
    "plt.plot(female_data.index, female_data['Crude rate'], label='Female')\n",
    "plt.title('Crude Rate of Lung Cancer Incidence Over Time (Male vs Female)')\n",
    "plt.xlabel('Year')\n",
    "plt.ylabel('Crude Rate')\n",
    "plt.legend()\n",
    "plt.grid(True)\n",
    "plt.ylim(0, 100)\n",
    "plt.xlim(1970,2020)\n",
    "plt.show()"
   ]
  },
  {
   "cell_type": "code",
   "execution_count": null,
   "id": "86670dca-7998-4278-8e19-210fdabb0db9",
   "metadata": {},
   "outputs": [],
   "source": [
    "#Cumulative Risk Comparison"
   ]
  },
  {
   "cell_type": "code",
   "execution_count": null,
   "id": "08e47f0f-db30-4eca-9c53-b6c2904c3f34",
   "metadata": {},
   "outputs": [],
   "source": [
    "#Cumulative incidence is the probability of individuals getting the disease over a specified age-span. Cumulative risk is expressed as the number of cases/deaths per 1000 person-years that are expected to occur in a given population between the specified age limits if the cancer rates were as those observed in the specified time period in the absence of competing causes."
   ]
  },
  {
   "cell_type": "code",
   "execution_count": null,
   "id": "d0316e05-7378-4cb7-9c4b-1adbf9c43684",
   "metadata": {},
   "outputs": [],
   "source": [
    "#https://ecis.jrc.ec.europa.eu/info/glossary.html"
   ]
  },
  {
   "cell_type": "code",
   "execution_count": null,
   "id": "4fe7f3c7-04f0-40fc-a35b-fef7409a0236",
   "metadata": {},
   "outputs": [],
   "source": [
    "femalescumulativerisk = lung[lung[\"Sex\"] ==2]\n",
    "femalescumulativerisk['Cumulative risk'].plot()"
   ]
  },
  {
   "cell_type": "code",
   "execution_count": null,
   "id": "c53a5e88-2c86-4b46-b2af-1ac737b73d41",
   "metadata": {},
   "outputs": [],
   "source": [
    "malescumulativerisk = lung[lung[\"Sex\"] ==1]\n",
    "malescumulativerisk['Cumulative risk'].plot()"
   ]
  },
  {
   "cell_type": "code",
   "execution_count": null,
   "id": "d5088a77-5d67-44d0-85ad-48d9aebae5fb",
   "metadata": {},
   "outputs": [],
   "source": [
    "plt.figure(figsize=(12, 6))\n",
    "plt.plot(male_data.index, male_data['Cumulative risk'], label='Male')\n",
    "plt.plot(female_data.index, female_data['Cumulative risk'], label='Female')\n",
    "plt.title('Cumulative Risk of Lung Cancer Incidence Over Time (Male vs Female)')\n",
    "plt.xlabel('Year')\n",
    "plt.ylabel('Cumulative Risk')\n",
    "plt.legend()\n",
    "plt.grid(True)\n",
    "plt.ylim(0, 10)\n",
    "plt.xlim(1970,2020)\n",
    "plt.show()"
   ]
  },
  {
   "cell_type": "code",
   "execution_count": null,
   "id": "ac6d9f77-0144-494a-87d2-b40166f611bc",
   "metadata": {},
   "outputs": [],
   "source": [
    "#Age-Standardized Rate Comparison"
   ]
  },
  {
   "cell_type": "code",
   "execution_count": null,
   "id": "44d74eab-74b3-4b66-817c-0b5d1fa1ae39",
   "metadata": {},
   "outputs": [],
   "source": [
    "#The ASR is a weighted mean of the age-specific rates where the weights are taken from the population distribution of a standard population; the ASR is expressed per 100,000. Comparison of rates referring to different time periods or different geographical areas is only possible after considering the differences in the age structure of the underlying populations. The age-standardisation allows the comparison of the rates that are arithmetically adjusted to have the same age structure of the standard population. "
   ]
  },
  {
   "cell_type": "code",
   "execution_count": null,
   "id": "3ad49a25-cda2-4b39-bc58-5e90fccb169f",
   "metadata": {},
   "outputs": [],
   "source": [
    "#https://ecis.jrc.ec.europa.eu/info/glossary.html"
   ]
  },
  {
   "cell_type": "code",
   "execution_count": null,
   "id": "4c5990bd-3de5-421c-974e-d1aba7d18700",
   "metadata": {
    "scrolled": true
   },
   "outputs": [],
   "source": [
    "femalesasr = lung[lung[\"Sex\"] ==2]\n",
    "femalesasr['ASR World'].plot()"
   ]
  },
  {
   "cell_type": "code",
   "execution_count": null,
   "id": "d4dd4290-58dd-4ec4-9e77-84f6df6db713",
   "metadata": {},
   "outputs": [],
   "source": [
    "malesasr = lung[lung[\"Sex\"] ==1]\n",
    "malesasr['ASR World'].plot()"
   ]
  },
  {
   "cell_type": "code",
   "execution_count": null,
   "id": "78b796ef-0763-4e9d-96c3-64cd85fda748",
   "metadata": {},
   "outputs": [],
   "source": [
    "plt.figure(figsize=(12, 6))\n",
    "plt.plot(male_data.index, male_data['ASR World'], label='Male')\n",
    "plt.plot(female_data.index, female_data['ASR World'], label='Female')\n",
    "plt.title('Age-Standardized Rate of Lung Cancer Incidence Over Time (Male vs Female)')\n",
    "plt.xlabel('Year')\n",
    "plt.ylabel('ASR (World)')\n",
    "plt.legend()\n",
    "plt.grid(True)\n",
    "plt.ylim(0, 60)\n",
    "plt.xlim(1970,2020)\n",
    "plt.show()"
   ]
  }
 ],
 "metadata": {
  "kernelspec": {
   "display_name": "Python 3 (ipykernel)",
   "language": "python",
   "name": "python3"
  },
  "language_info": {
   "codemirror_mode": {
    "name": "ipython",
    "version": 3
   },
   "file_extension": ".py",
   "mimetype": "text/x-python",
   "name": "python",
   "nbconvert_exporter": "python",
   "pygments_lexer": "ipython3",
   "version": "3.12.1"
  }
 },
 "nbformat": 4,
 "nbformat_minor": 5
}
